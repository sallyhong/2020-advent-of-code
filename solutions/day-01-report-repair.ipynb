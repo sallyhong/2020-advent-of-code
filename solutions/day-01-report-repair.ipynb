{
 "cells": [
  {
   "cell_type": "markdown",
   "metadata": {},
   "source": [
    "## Part I Task\n",
    "\n",
    "1. Given an input list\n",
    "2. Find two entries that sum to 2020\n",
    "3. Multiply the two entries together\n",
    "4. Return output"
   ]
  },
  {
   "cell_type": "code",
   "execution_count": 1,
   "metadata": {},
   "outputs": [],
   "source": [
    "SAMPLE_DATA = \"../data/day-01-report-repair.txt\"\n",
    "\n",
    "with open(SAMPLE_DATA) as f:\n",
    "    data = f.read().splitlines()"
   ]
  },
  {
   "cell_type": "code",
   "execution_count": 2,
   "metadata": {},
   "outputs": [],
   "source": [
    "# convert data into int\n",
    "data = [int(num) for num in data]\n",
    "# sort data\n",
    "data.sort()"
   ]
  },
  {
   "cell_type": "code",
   "execution_count": 3,
   "metadata": {},
   "outputs": [],
   "source": [
    "found = False\n",
    "goal_num = 2020\n",
    "last_index = -1\n",
    "\n",
    "for num in data:\n",
    "    second_num = goal_num - num\n",
    "    if second_num == 0:\n",
    "        found = True\n",
    "    while data[last_index] >= second_num:\n",
    "        if data[last_index] == second_num:\n",
    "            found = True\n",
    "            break\n",
    "        else:\n",
    "            last_index -= 1\n",
    "    if found:\n",
    "        break"
   ]
  },
  {
   "cell_type": "code",
   "execution_count": 4,
   "metadata": {},
   "outputs": [
    {
     "name": "stdout",
     "output_type": "stream",
     "text": [
      "63616\n"
     ]
    }
   ],
   "source": [
    "answer = num * second_num\n",
    "print(answer)"
   ]
  },
  {
   "cell_type": "markdown",
   "metadata": {},
   "source": [
    "## Part II Task\n",
    "\n",
    "1. Given an input list\n",
    "2. Find _three_ entries that sum to 2020\n",
    "3. Multiply the three entries together\n",
    "4. Return output"
   ]
  },
  {
   "cell_type": "code",
   "execution_count": 5,
   "metadata": {},
   "outputs": [],
   "source": [
    "# I got this snippet online\n",
    "\n",
    "def three_sum(nums):\n",
    "    # Using 3sum strategy\n",
    "    # Fix the lowest number and run 2sum on the remaining array\n",
    "    res = []\n",
    "    nums.sort()\n",
    "    for i in range(len(nums)-2):\n",
    "        if i > 0 and nums[i] == nums[i-1]:\n",
    "            continue\n",
    "        l, r = i+1, len(nums)-1\n",
    "        while l < r:\n",
    "            s = nums[i] + nums[l] + nums[r]\n",
    "            if s < 2020:\n",
    "                l +=1\n",
    "            elif s > 2020:\n",
    "                r -= 1\n",
    "            else:\n",
    "                return (nums[i], nums[l], nums[r])"
   ]
  },
  {
   "cell_type": "code",
   "execution_count": 6,
   "metadata": {},
   "outputs": [
    {
     "name": "stdout",
     "output_type": "stream",
     "text": [
      "(72, 897, 1051)\n",
      "67877784\n"
     ]
    }
   ],
   "source": [
    "answer_2 = three_sum(data)\n",
    "print(answer_2)\n",
    "\n",
    "from functools import reduce\n",
    "print(reduce((lambda x, y: x*y), answer_2))"
   ]
  }
 ],
 "metadata": {
  "kernelspec": {
   "display_name": "Python 3",
   "name": "python3"
  },
  "language_info": {
   "codemirror_mode": {
    "name": "ipython",
    "version": 3
   },
   "file_extension": ".py",
   "mimetype": "text/x-python",
   "name": "python",
   "nbconvert_exporter": "python",
   "pygments_lexer": "ipython3",
   "version": "3.7.1"
  },
  "orig_nbformat": 2
 },
 "nbformat": 4,
 "nbformat_minor": 2
}